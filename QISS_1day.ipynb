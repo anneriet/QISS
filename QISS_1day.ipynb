{
 "cells": [
  {
   "attachments": {},
   "cell_type": "markdown",
   "metadata": {},
   "source": [
    "### License\n",
    "> Copyright 2023 Anna Maria Krol\n",
    ">\n",
    "> Licensed under the Apache License, Version 2.0 (the \"License\");\n",
    "> you may not use this file except in compliance with the License.\n",
    "> You may obtain a copy of the License at\n",
    ">\n",
    ">     http://www.apache.org/licenses/LICENSE-2.0\n",
    ">\n",
    "> Unless required by applicable law or agreed to in writing, software\n",
    "> distributed under the License is distributed on an \"AS IS\" BASIS,\n",
    "> WITHOUT WARRANTIES OR CONDITIONS OF ANY KIND, either express or implied.\n",
    "> See the License for the specific language governing permissions and\n",
    "> limitations under the License."
   ]
  },
  {
   "cell_type": "code",
   "execution_count": 1,
   "metadata": {},
   "outputs": [
    {
     "name": "stderr",
     "output_type": "stream",
     "text": [
      "Matplotlib created a temporary config/cache directory at /tmp/matplotlib-y16m7sfg because the default path (/data/localhome/amkrol/.cache/matplotlib) is not a writable directory; it is highly recommended to set the MPLCONFIGDIR environment variable to a writable directory, in particular to speed up the import of Matplotlib and to better support multiprocessing.\n"
     ]
    }
   ],
   "source": [
    "# python 3.9.18 kernel with Qiskit\n",
    "import matplotlib.pyplot as plt\n",
    "import numpy as np\n",
    "from qiskit_aer import AerSimulator\n",
    "# for use with older versions of Qiskit/Qiskit Aer\n",
    "from qiskit import Aer\n",
    "from qiskit import transpile, QuantumCircuit, ClassicalRegister, QuantumRegister\n",
    "from qiskit.circuit.library import PhaseGate, QFT, MCXGate\n",
    "\n",
    "from helper_functions import combine_registers, grayCode"
   ]
  },
  {
   "attachments": {},
   "cell_type": "markdown",
   "metadata": {},
   "source": [
    "# Generate non-controlled adder"
   ]
  },
  {
   "cell_type": "code",
   "execution_count": 2,
   "metadata": {},
   "outputs": [],
   "source": [
    "def U(circuit, shiftlength, data_qubits):\n",
    "    name = \"U(\" + str(shiftlength) + \")\"\n",
    "    sub_circ = QuantumCircuit(data_qubits, name=name)\n",
    "    factor = 1\n",
    "    for target_qbit in data_qubits:\n",
    "        sub_circ.append(PhaseGate(factor*np.pi*shiftlength),[target_qbit])\n",
    "        factor /= 2\n",
    "    circuit.append(sub_circ,data_qubits)"
   ]
  },
  {
   "attachments": {},
   "cell_type": "markdown",
   "metadata": {},
   "source": [
    "# Generate controlled adder"
   ]
  },
  {
   "cell_type": "code",
   "execution_count": 3,
   "metadata": {},
   "outputs": [],
   "source": [
    "def U_controlled(circuit, shiftlength, control_qubits, data_qubits, ctrl_state):\n",
    "    name = \"U(\" + str(shiftlength) + \")\"\n",
    "    newctrlstate = format(ctrl_state, '#0' + str(control_qubits.size+2) + 'b')[:1:-1]\n",
    "    sub_circ = QuantumCircuit(control_qubits, data_qubits, name=name)\n",
    "    factor = 1\n",
    "    for target_qbit in data_qubits:\n",
    "        cphasegate = PhaseGate(factor*np.pi*shiftlength).control(control_qubits.size, ctrl_state=newctrlstate)\n",
    "        sub_circ.append(cphasegate, combine_registers(control_qubits, target_qbit))\n",
    "        factor /= 2\n",
    "    circuit.append(sub_circ, combine_registers(control_qubits, data_qubits))"
   ]
  },
  {
   "attachments": {},
   "cell_type": "markdown",
   "metadata": {},
   "source": [
    "# Generate S(shifts) circuit\n",
    "Encode all shifts, uses graycode to automatically select shift and control state (so can input them in regular order, which is nice) Starts with control state 11, so the order matches with the report (as opposed to vanilla gray code that starts from 00)"
   ]
  },
  {
   "cell_type": "code",
   "execution_count": 4,
   "metadata": {},
   "outputs": [],
   "source": [
    "def S(circuit, shifts, control_qubits, data_qubits):\n",
    "    name = \"S(\" + str(shifts) + \")\"\n",
    "    sub_circ = QuantumCircuit(control_qubits, data_qubits, name=name)\n",
    "    for i in range(len(shifts)):\n",
    "        U_controlled(sub_circ, shifts[len(shifts)-i-1], control_qubits, data_qubits, len(shifts) -grayCode(i)-1)\n",
    "    circuit.append(sub_circ, combine_registers(control_qubits, data_qubits))"
   ]
  },
  {
   "attachments": {},
   "cell_type": "markdown",
   "metadata": {},
   "source": [
    "# Addition and subtraction\n",
    "Add/subtract all shifts, uses graycode to automatically select shift and control state (so you can input them in regular order). \n",
    "\n",
    "Starts with control state 11, so the order matches with the report (as opposed to vanilla gray code that starts from 00)."
   ]
  },
  {
   "cell_type": "code",
   "execution_count": 5,
   "metadata": {},
   "outputs": [],
   "source": [
    "def add(circuit, shifts, data_qubits, control_qubits=None):\n",
    "    # If no control qubits, then do an uncontrolled U(shifts) operation (shifts should just be a single number)\n",
    "    if(control_qubits == None):\n",
    "        name = \"U(\" + str(shifts) + \")\"\n",
    "        sub_circ = QuantumCircuit(data_qubits, name=name)\n",
    "        U(sub_circ, shifts, data_qubits)\n",
    "        circuit.append(sub_circ, data_qubits)\n",
    "        return\n",
    "    name = \"S(\" + str(shifts) + \")\"\n",
    "    sub_circ = QuantumCircuit(control_qubits, data_qubits, name=name)\n",
    "    for i in range(len(shifts)):\n",
    "        U_controlled(sub_circ, shifts[len(shifts) -grayCode(i)-1], control_qubits, data_qubits, len(shifts) -grayCode(i)-1)\n",
    "    circuit.append(sub_circ, combine_registers(control_qubits, data_qubits))\n"
   ]
  },
  {
   "attachments": {},
   "cell_type": "markdown",
   "metadata": {},
   "source": [
    "# Subtraction\n",
    "\n",
    "Same as addition circuit, but adds the negative shift value instead. \n",
    "\n",
    "$-X$ is calculated as $2^{\\mathrm{~number~of~data~qubits}} - X$. "
   ]
  },
  {
   "cell_type": "code",
   "execution_count": 6,
   "metadata": {},
   "outputs": [],
   "source": [
    "\n",
    "def subtract(circuit, shifts, data_qubits, control_qubits=None):\n",
    "    # If no control qubits, do an uncontrolled U(-shifts) operation (shifts should just be a single number)\n",
    "    if(control_qubits==None):\n",
    "        name = \"-U(\" + str(shifts) + \")\"\n",
    "        sub_circ = QuantumCircuit(data_qubits, name=name)\n",
    "        negativeshift = (2**data_qubits.size-shifts)% 2**data_qubits.size\n",
    "        U(sub_circ, negativeshift, data_qubits)\n",
    "        circuit.append(sub_circ, data_qubits)\n",
    "        return\n",
    "    name = \"-S(\" + str(shifts) + \")\"\n",
    "    sub_circ = QuantumCircuit(control_qubits, data_qubits, name=name)\n",
    "    # for shift in shifts:\n",
    "    for i in range(len(shifts)):\n",
    "        negativeshift = (2**data_qubits.size-shifts[ len(shifts) -grayCode(i)-1])% 2**data_qubits.size\n",
    "        U_controlled(sub_circ, negativeshift, control_qubits, data_qubits, len(shifts) -grayCode(i)-1)\n",
    "    circuit.append(sub_circ, combine_registers(control_qubits, data_qubits))"
   ]
  },
  {
   "attachments": {},
   "cell_type": "markdown",
   "metadata": {},
   "source": [
    "# MAX $(0,\\tilde{B})$\n",
    "Implementation of the MAX $(0,\\tilde{B})$ circuit, with *n* ancilla qubits for *n* data qubits . Total number of qubits is _2n_, ancilla qubits are the last qubits in the list. \n",
    "\n",
    "Assumes signed number where the MSB is 1 for negative buffer values."
   ]
  },
  {
   "cell_type": "code",
   "execution_count": 7,
   "metadata": {},
   "outputs": [],
   "source": [
    "def maxB_0(circuit, data_qubits, ancillas):\n",
    "    name = \"MAX(0,B)\"\n",
    "    maxBcircuit = QuantumCircuit(data_qubits, ancillas, name=name)\n",
    "    # Apply CCXs to first qubit (MSB) and each of the next ones, to target ancilla q[nqb]\n",
    "    for i in range(len(data_qubits)-1):\n",
    "        maxBcircuit.ccx(data_qubits[-1], data_qubits[i], ancillas[i])\n",
    "        maxBcircuit.cx(ancillas[i], data_qubits[i])\n",
    "    maxBcircuit.cx(data_qubits[-1],ancillas[-1])\n",
    "    maxBcircuit.cx(ancillas[-1], data_qubits[-1])\n",
    "    circuit.append(maxBcircuit, combine_registers(data_qubits, ancillas))"
   ]
  },
  {
   "attachments": {},
   "cell_type": "markdown",
   "metadata": {},
   "source": [
    "# Diffuser\n",
    "Regular diffuser as used by Grover's algorithm for a variable number of qubits"
   ]
  },
  {
   "cell_type": "code",
   "execution_count": 8,
   "metadata": {},
   "outputs": [],
   "source": [
    "def diffuser(circuit, qubits):\n",
    "    circuit.h(qubits)\n",
    "    circuit.x(qubits)\n",
    "    circuit.h(qubits[-1])\n",
    "    circuit.mct(qubits[:-1], qubits[-1])\n",
    "    circuit.h(qubits[-1])\n",
    "    circuit.x(qubits)\n",
    "    circuit.h(qubits)"
   ]
  },
  {
   "attachments": {},
   "cell_type": "markdown",
   "metadata": {},
   "source": [
    "# Making the oracle\n",
    "First: variables"
   ]
  },
  {
   "cell_type": "code",
   "execution_count": 9,
   "metadata": {},
   "outputs": [],
   "source": [
    "number_of_days = 1\n",
    "B_init = 5\n",
    "B_max = 10\n",
    "V_target = 8*number_of_days\n",
    "delta = 1 # Actually 0.4 for one day (5% of 8), but needs to be at least 1 otherwise there are no valid solutions. \n",
    "\n",
    "minimum_precision = 1\n",
    "shifts_s1 = [0,5,8,10]\n",
    "shifts_s2 = [0,4,7,9]"
   ]
  },
  {
   "attachments": {},
   "cell_type": "markdown",
   "metadata": {},
   "source": [
    "Making qubits and circuits"
   ]
  },
  {
   "cell_type": "code",
   "execution_count": 10,
   "metadata": {},
   "outputs": [],
   "source": [
    "shop1_qubits = QuantumRegister(2, name='qs1')\n",
    "shop2_qubits = QuantumRegister(2, name='qs2')\n",
    "buffer_qubits = QuantumRegister(5, name='qb')\n",
    "max_ancilla = QuantumRegister(5, name='a')\n",
    "condition_qubits = QuantumRegister(3, name='c')\n",
    "output_qubit = QuantumRegister(1, name='out')\n",
    "cbits = ClassicalRegister(4, name='cbits')\n",
    "\n",
    "\n",
    "qc = QuantumCircuit(shop1_qubits, shop2_qubits, buffer_qubits, max_ancilla, condition_qubits, output_qubit, cbits)\n"
   ]
  },
  {
   "attachments": {},
   "cell_type": "markdown",
   "metadata": {},
   "source": [
    "### Initialization\n",
    "Initialize output qubit in state $\\left|{-}\\right\\rangle$ (done as -X-H- if qasm needs to be generated)\n",
    "\n",
    "Initialize shop and buffer qubits with Hadamard gate"
   ]
  },
  {
   "cell_type": "code",
   "execution_count": 11,
   "metadata": {},
   "outputs": [
    {
     "data": {
      "text/plain": [
       "<qiskit.circuit.instructionset.InstructionSet at 0x7f12501dd340>"
      ]
     },
     "execution_count": 11,
     "metadata": {},
     "output_type": "execute_result"
    }
   ],
   "source": [
    "# qc.initialize([1, -1]/np.sqrt(2), output_qubit)\n",
    "\n",
    "qc.x(output_qubit)\n",
    "qc.h(output_qubit)\n",
    "\n",
    "qc.h(shop1_qubits)\n",
    "qc.h(shop2_qubits)\n",
    "\n",
    "qc.h(buffer_qubits)"
   ]
  },
  {
   "attachments": {},
   "cell_type": "markdown",
   "metadata": {},
   "source": [
    "### Oracle\n",
    "We will use a separate quantum circuit for the oracle, because that will make it easier to invert later.\n"
   ]
  },
  {
   "cell_type": "code",
   "execution_count": 12,
   "metadata": {},
   "outputs": [],
   "source": [
    "oracle = QuantumCircuit(shop1_qubits, shop2_qubits, buffer_qubits, max_ancilla, condition_qubits, output_qubit, name=\"Oracle\")"
   ]
  },
  {
   "cell_type": "markdown",
   "metadata": {},
   "source": [
    "\n",
    "$B_{out} = B_{init} + S1 - S2$"
   ]
  },
  {
   "cell_type": "code",
   "execution_count": 13,
   "metadata": {},
   "outputs": [],
   "source": [
    "add(oracle, B_init,buffer_qubits)\n",
    "add(oracle, shifts_s1, buffer_qubits, shop1_qubits)\n",
    "subtract(oracle, shifts_s2, buffer_qubits, shop2_qubits)"
   ]
  },
  {
   "attachments": {},
   "cell_type": "markdown",
   "metadata": {},
   "source": [
    "$MAX(0,B_{out})$"
   ]
  },
  {
   "cell_type": "code",
   "execution_count": 14,
   "metadata": {},
   "outputs": [
    {
     "data": {
      "text/plain": [
       "<qiskit.circuit.instructionset.InstructionSet at 0x7f1250113670>"
      ]
     },
     "execution_count": 14,
     "metadata": {},
     "output_type": "execute_result"
    }
   ],
   "source": [
    "oracle.append(QFT(buffer_qubits.size, do_swaps=False, inverse=True), buffer_qubits)\n",
    "maxB_0(oracle, buffer_qubits, max_ancilla)\n",
    "oracle.append(QFT(buffer_qubits.size, do_swaps=False, inverse=False), buffer_qubits)"
   ]
  },
  {
   "attachments": {},
   "cell_type": "markdown",
   "metadata": {},
   "source": [
    "Condition c1: $B_{out} \\leq B_{max}$"
   ]
  },
  {
   "cell_type": "code",
   "execution_count": 15,
   "metadata": {},
   "outputs": [
    {
     "name": "stderr",
     "output_type": "stream",
     "text": [
      "/tmp/ipykernel_1058/445403564.py:4: DeprecationWarning: The method ``qiskit.circuit.quantumcircuit.QuantumCircuit.cnot()`` is deprecated as of qiskit 0.45.0. It will be removed no earlier than 3 months after the release date. Use QuantumCircuit.cx as direct replacement.\n",
      "  oracle.cnot(buffer_qubits[-1], condition_qubits[0])\n"
     ]
    },
    {
     "data": {
      "text/plain": [
       "<qiskit.circuit.instructionset.InstructionSet at 0x7f128bed4a30>"
      ]
     },
     "execution_count": 15,
     "metadata": {},
     "output_type": "execute_result"
    }
   ],
   "source": [
    "subtract(oracle, B_max+minimum_precision, buffer_qubits)\n",
    "\n",
    "oracle.append(QFT(buffer_qubits.size, do_swaps=False, inverse=True), buffer_qubits)\n",
    "oracle.cnot(buffer_qubits[-1], condition_qubits[0])\n",
    "oracle.append(QFT(buffer_qubits.size, do_swaps=False, inverse=False), buffer_qubits)"
   ]
  },
  {
   "attachments": {},
   "cell_type": "markdown",
   "metadata": {},
   "source": [
    "Uncompute (reset) the buffer by adding the value we just subtracted for checking the condition."
   ]
  },
  {
   "cell_type": "code",
   "execution_count": 16,
   "metadata": {},
   "outputs": [],
   "source": [
    "add(oracle, B_max+minimum_precision, buffer_qubits)"
   ]
  },
  {
   "attachments": {},
   "cell_type": "markdown",
   "metadata": {},
   "source": [
    "Calculate (-)output volume: $-V_{out} = B_{final} - S1 - B_{init}$"
   ]
  },
  {
   "cell_type": "code",
   "execution_count": 17,
   "metadata": {},
   "outputs": [],
   "source": [
    "subtract(oracle, shifts_s1, buffer_qubits, shop1_qubits)\n",
    "subtract(oracle, B_init, buffer_qubits)"
   ]
  },
  {
   "attachments": {},
   "cell_type": "markdown",
   "metadata": {},
   "source": [
    "Condition c2: $V_{out} \\geq V_{low}$\n"
   ]
  },
  {
   "cell_type": "code",
   "execution_count": 18,
   "metadata": {},
   "outputs": [
    {
     "name": "stderr",
     "output_type": "stream",
     "text": [
      "/tmp/ipykernel_1058/533209689.py:4: DeprecationWarning: The method ``qiskit.circuit.quantumcircuit.QuantumCircuit.cnot()`` is deprecated as of qiskit 0.45.0. It will be removed no earlier than 3 months after the release date. Use QuantumCircuit.cx as direct replacement.\n",
      "  oracle.cnot(buffer_qubits[-1], condition_qubits[1])\n"
     ]
    },
    {
     "data": {
      "text/plain": [
       "<qiskit.circuit.instructionset.InstructionSet at 0x7f12500771f0>"
      ]
     },
     "execution_count": 18,
     "metadata": {},
     "output_type": "execute_result"
    }
   ],
   "source": [
    "add(oracle, V_target-delta-minimum_precision, buffer_qubits)\n",
    "\n",
    "oracle.append(QFT(buffer_qubits.size, do_swaps=False, inverse=True), buffer_qubits)\n",
    "oracle.cnot(buffer_qubits[-1], condition_qubits[1])\n",
    "oracle.append(QFT(buffer_qubits.size, do_swaps=False, inverse=False), buffer_qubits)"
   ]
  },
  {
   "attachments": {},
   "cell_type": "markdown",
   "metadata": {},
   "source": [
    "Condition c3: $V_{out} \\leq V_{up}$ \n"
   ]
  },
  {
   "cell_type": "code",
   "execution_count": 19,
   "metadata": {},
   "outputs": [
    {
     "name": "stderr",
     "output_type": "stream",
     "text": [
      "/tmp/ipykernel_1058/1862572524.py:5: DeprecationWarning: The method ``qiskit.circuit.quantumcircuit.QuantumCircuit.cnot()`` is deprecated as of qiskit 0.45.0. It will be removed no earlier than 3 months after the release date. Use QuantumCircuit.cx as direct replacement.\n",
      "  oracle.cnot(buffer_qubits[-1], condition_qubits[2])\n"
     ]
    },
    {
     "data": {
      "text/html": [
       "<pre style=\"word-wrap: normal;white-space: pre;background: #fff0;line-height: 1.1;font-family: &quot;Courier New&quot;,Courier,monospace\">                ┌───────────────────┐                              »\n",
       "qs1_0: ─────────┤0                  ├──────────────────────────────»\n",
       "                │                   │                              »\n",
       "qs1_1: ─────────┤1                  ├──────────────────────────────»\n",
       "                │                   │┌───────────────────┐         »\n",
       "qs2_0: ─────────┤                   ├┤0                  ├─────────»\n",
       "                │                   ││                   │         »\n",
       "qs2_1: ─────────┤                   ├┤1                  ├─────────»\n",
       "       ┌───────┐│                   ││                   │┌───────┐»\n",
       " qb_0: ┤0      ├┤2 S([0, 5, 8, 10]) ├┤2                  ├┤0      ├»\n",
       "       │       ││                   ││                   ││       │»\n",
       " qb_1: ┤1      ├┤3                  ├┤3 -S([0, 4, 7, 9]) ├┤1      ├»\n",
       "       │       ││                   ││                   ││       │»\n",
       " qb_2: ┤2 U(5) ├┤4                  ├┤4                  ├┤2 IQFT ├»\n",
       "       │       ││                   ││                   ││       │»\n",
       " qb_3: ┤3      ├┤5                  ├┤5                  ├┤3      ├»\n",
       "       │       ││                   ││                   ││       │»\n",
       " qb_4: ┤4      ├┤6                  ├┤6                  ├┤4      ├»\n",
       "       └───────┘└───────────────────┘└───────────────────┘└───────┘»\n",
       "  a_0: ────────────────────────────────────────────────────────────»\n",
       "                                                                   »\n",
       "  a_1: ────────────────────────────────────────────────────────────»\n",
       "                                                                   »\n",
       "  a_2: ────────────────────────────────────────────────────────────»\n",
       "                                                                   »\n",
       "  a_3: ────────────────────────────────────────────────────────────»\n",
       "                                                                   »\n",
       "  a_4: ────────────────────────────────────────────────────────────»\n",
       "                                                                   »\n",
       "  c_0: ────────────────────────────────────────────────────────────»\n",
       "                                                                   »\n",
       "  c_1: ────────────────────────────────────────────────────────────»\n",
       "         ┌───┐                                                     »\n",
       "  c_2: ──┤ X ├─────────────────────────────────────────────────────»\n",
       "         └───┘                                                     »\n",
       "  out: ────────────────────────────────────────────────────────────»\n",
       "                                                                   »\n",
       "«                                                                       »\n",
       "«qs1_0: ────────────────────────────────────────────────────────────────»\n",
       "«                                                                       »\n",
       "«qs1_1: ────────────────────────────────────────────────────────────────»\n",
       "«                                                                       »\n",
       "«qs2_0: ────────────────────────────────────────────────────────────────»\n",
       "«                                                                       »\n",
       "«qs2_1: ────────────────────────────────────────────────────────────────»\n",
       "«       ┌───────────┐┌──────┐┌─────────┐┌───────┐     ┌──────┐┌────────┐»\n",
       "« qb_0: ┤0          ├┤0     ├┤0        ├┤0      ├─────┤0     ├┤0       ├»\n",
       "«       │           ││      ││         ││       │     │      ││        │»\n",
       "« qb_1: ┤1          ├┤1     ├┤1        ├┤1      ├─────┤1     ├┤1       ├»\n",
       "«       │           ││      ││         ││       │     │      ││        │»\n",
       "« qb_2: ┤2          ├┤2 QFT ├┤2 -U(11) ├┤2 IQFT ├─────┤2 QFT ├┤2 U(11) ├»\n",
       "«       │           ││      ││         ││       │     │      ││        │»\n",
       "« qb_3: ┤3          ├┤3     ├┤3        ├┤3      ├─────┤3     ├┤3       ├»\n",
       "«       │           ││      ││         ││       │     │      ││        │»\n",
       "« qb_4: ┤4          ├┤4     ├┤4        ├┤4      ├──■──┤4     ├┤4       ├»\n",
       "«       │  MAX(0,B) │└──────┘└─────────┘└───────┘  │  └──────┘└────────┘»\n",
       "«  a_0: ┤5          ├──────────────────────────────┼────────────────────»\n",
       "«       │           │                              │                    »\n",
       "«  a_1: ┤6          ├──────────────────────────────┼────────────────────»\n",
       "«       │           │                              │                    »\n",
       "«  a_2: ┤7          ├──────────────────────────────┼────────────────────»\n",
       "«       │           │                              │                    »\n",
       "«  a_3: ┤8          ├──────────────────────────────┼────────────────────»\n",
       "«       │           │                              │                    »\n",
       "«  a_4: ┤9          ├──────────────────────────────┼────────────────────»\n",
       "«       └───────────┘                            ┌─┴─┐                  »\n",
       "«  c_0: ─────────────────────────────────────────┤ X ├──────────────────»\n",
       "«                                                └───┘                  »\n",
       "«  c_1: ────────────────────────────────────────────────────────────────»\n",
       "«                                                                       »\n",
       "«  c_2: ────────────────────────────────────────────────────────────────»\n",
       "«                                                                       »\n",
       "«  out: ────────────────────────────────────────────────────────────────»\n",
       "«                                                                       »\n",
       "«       ┌────────────────────┐                                         »\n",
       "«qs1_0: ┤0                   ├─────────────────────────────────────────»\n",
       "«       │                    │                                         »\n",
       "«qs1_1: ┤1                   ├─────────────────────────────────────────»\n",
       "«       │                    │                                         »\n",
       "«qs2_0: ┤                    ├─────────────────────────────────────────»\n",
       "«       │                    │                                         »\n",
       "«qs2_1: ┤                    ├─────────────────────────────────────────»\n",
       "«       │                    │┌────────┐┌───────┐┌───────┐     ┌──────┐»\n",
       "« qb_0: ┤2 -S([0, 5, 8, 10]) ├┤0       ├┤0      ├┤0      ├─────┤0     ├»\n",
       "«       │                    ││        ││       ││       │     │      │»\n",
       "« qb_1: ┤3                   ├┤1       ├┤1      ├┤1      ├─────┤1     ├»\n",
       "«       │                    ││        ││       ││       │     │      │»\n",
       "« qb_2: ┤4                   ├┤2 -U(5) ├┤2 U(6) ├┤2 IQFT ├─────┤2 QFT ├»\n",
       "«       │                    ││        ││       ││       │     │      │»\n",
       "« qb_3: ┤5                   ├┤3       ├┤3      ├┤3      ├─────┤3     ├»\n",
       "«       │                    ││        ││       ││       │     │      │»\n",
       "« qb_4: ┤6                   ├┤4       ├┤4      ├┤4      ├──■──┤4     ├»\n",
       "«       └────────────────────┘└────────┘└───────┘└───────┘  │  └──────┘»\n",
       "«  a_0: ────────────────────────────────────────────────────┼──────────»\n",
       "«                                                           │          »\n",
       "«  a_1: ────────────────────────────────────────────────────┼──────────»\n",
       "«                                                           │          »\n",
       "«  a_2: ────────────────────────────────────────────────────┼──────────»\n",
       "«                                                           │          »\n",
       "«  a_3: ────────────────────────────────────────────────────┼──────────»\n",
       "«                                                           │          »\n",
       "«  a_4: ────────────────────────────────────────────────────┼──────────»\n",
       "«                                                           │          »\n",
       "«  c_0: ────────────────────────────────────────────────────┼──────────»\n",
       "«                                                         ┌─┴─┐        »\n",
       "«  c_1: ──────────────────────────────────────────────────┤ X ├────────»\n",
       "«                                                         └───┘        »\n",
       "«  c_2: ───────────────────────────────────────────────────────────────»\n",
       "«                                                                      »\n",
       "«  out: ───────────────────────────────────────────────────────────────»\n",
       "«                                                                      »\n",
       "«                              \n",
       "«qs1_0: ───────────────────────\n",
       "«                              \n",
       "«qs1_1: ───────────────────────\n",
       "«                              \n",
       "«qs2_0: ───────────────────────\n",
       "«                              \n",
       "«qs2_1: ───────────────────────\n",
       "«       ┌───────┐┌───────┐     \n",
       "« qb_0: ┤0      ├┤0      ├─────\n",
       "«       │       ││       │     \n",
       "« qb_1: ┤1      ├┤1      ├─────\n",
       "«       │       ││       │     \n",
       "« qb_2: ┤2 U(3) ├┤2 IQFT ├─────\n",
       "«       │       ││       │     \n",
       "« qb_3: ┤3      ├┤3      ├─────\n",
       "«       │       ││       │     \n",
       "« qb_4: ┤4      ├┤4      ├──■──\n",
       "«       └───────┘└───────┘  │  \n",
       "«  a_0: ────────────────────┼──\n",
       "«                           │  \n",
       "«  a_1: ────────────────────┼──\n",
       "«                           │  \n",
       "«  a_2: ────────────────────┼──\n",
       "«                           │  \n",
       "«  a_3: ────────────────────┼──\n",
       "«                           │  \n",
       "«  a_4: ────────────────────┼──\n",
       "«                           │  \n",
       "«  c_0: ────────────────────┼──\n",
       "«                           │  \n",
       "«  c_1: ────────────────────┼──\n",
       "«                         ┌─┴─┐\n",
       "«  c_2: ──────────────────┤ X ├\n",
       "«                         └───┘\n",
       "«  out: ───────────────────────\n",
       "«                              </pre>"
      ],
      "text/plain": [
       "                ┌───────────────────┐                              »\n",
       "qs1_0: ─────────┤0                  ├──────────────────────────────»\n",
       "                │                   │                              »\n",
       "qs1_1: ─────────┤1                  ├──────────────────────────────»\n",
       "                │                   │┌───────────────────┐         »\n",
       "qs2_0: ─────────┤                   ├┤0                  ├─────────»\n",
       "                │                   ││                   │         »\n",
       "qs2_1: ─────────┤                   ├┤1                  ├─────────»\n",
       "       ┌───────┐│                   ││                   │┌───────┐»\n",
       " qb_0: ┤0      ├┤2 S([0, 5, 8, 10]) ├┤2                  ├┤0      ├»\n",
       "       │       ││                   ││                   ││       │»\n",
       " qb_1: ┤1      ├┤3                  ├┤3 -S([0, 4, 7, 9]) ├┤1      ├»\n",
       "       │       ││                   ││                   ││       │»\n",
       " qb_2: ┤2 U(5) ├┤4                  ├┤4                  ├┤2 IQFT ├»\n",
       "       │       ││                   ││                   ││       │»\n",
       " qb_3: ┤3      ├┤5                  ├┤5                  ├┤3      ├»\n",
       "       │       ││                   ││                   ││       │»\n",
       " qb_4: ┤4      ├┤6                  ├┤6                  ├┤4      ├»\n",
       "       └───────┘└───────────────────┘└───────────────────┘└───────┘»\n",
       "  a_0: ────────────────────────────────────────────────────────────»\n",
       "                                                                   »\n",
       "  a_1: ────────────────────────────────────────────────────────────»\n",
       "                                                                   »\n",
       "  a_2: ────────────────────────────────────────────────────────────»\n",
       "                                                                   »\n",
       "  a_3: ────────────────────────────────────────────────────────────»\n",
       "                                                                   »\n",
       "  a_4: ────────────────────────────────────────────────────────────»\n",
       "                                                                   »\n",
       "  c_0: ────────────────────────────────────────────────────────────»\n",
       "                                                                   »\n",
       "  c_1: ────────────────────────────────────────────────────────────»\n",
       "         ┌───┐                                                     »\n",
       "  c_2: ──┤ X ├─────────────────────────────────────────────────────»\n",
       "         └───┘                                                     »\n",
       "  out: ────────────────────────────────────────────────────────────»\n",
       "                                                                   »\n",
       "«                                                                       »\n",
       "«qs1_0: ────────────────────────────────────────────────────────────────»\n",
       "«                                                                       »\n",
       "«qs1_1: ────────────────────────────────────────────────────────────────»\n",
       "«                                                                       »\n",
       "«qs2_0: ────────────────────────────────────────────────────────────────»\n",
       "«                                                                       »\n",
       "«qs2_1: ────────────────────────────────────────────────────────────────»\n",
       "«       ┌───────────┐┌──────┐┌─────────┐┌───────┐     ┌──────┐┌────────┐»\n",
       "« qb_0: ┤0          ├┤0     ├┤0        ├┤0      ├─────┤0     ├┤0       ├»\n",
       "«       │           ││      ││         ││       │     │      ││        │»\n",
       "« qb_1: ┤1          ├┤1     ├┤1        ├┤1      ├─────┤1     ├┤1       ├»\n",
       "«       │           ││      ││         ││       │     │      ││        │»\n",
       "« qb_2: ┤2          ├┤2 QFT ├┤2 -U(11) ├┤2 IQFT ├─────┤2 QFT ├┤2 U(11) ├»\n",
       "«       │           ││      ││         ││       │     │      ││        │»\n",
       "« qb_3: ┤3          ├┤3     ├┤3        ├┤3      ├─────┤3     ├┤3       ├»\n",
       "«       │           ││      ││         ││       │     │      ││        │»\n",
       "« qb_4: ┤4          ├┤4     ├┤4        ├┤4      ├──■──┤4     ├┤4       ├»\n",
       "«       │  MAX(0,B) │└──────┘└─────────┘└───────┘  │  └──────┘└────────┘»\n",
       "«  a_0: ┤5          ├──────────────────────────────┼────────────────────»\n",
       "«       │           │                              │                    »\n",
       "«  a_1: ┤6          ├──────────────────────────────┼────────────────────»\n",
       "«       │           │                              │                    »\n",
       "«  a_2: ┤7          ├──────────────────────────────┼────────────────────»\n",
       "«       │           │                              │                    »\n",
       "«  a_3: ┤8          ├──────────────────────────────┼────────────────────»\n",
       "«       │           │                              │                    »\n",
       "«  a_4: ┤9          ├──────────────────────────────┼────────────────────»\n",
       "«       └───────────┘                            ┌─┴─┐                  »\n",
       "«  c_0: ─────────────────────────────────────────┤ X ├──────────────────»\n",
       "«                                                └───┘                  »\n",
       "«  c_1: ────────────────────────────────────────────────────────────────»\n",
       "«                                                                       »\n",
       "«  c_2: ────────────────────────────────────────────────────────────────»\n",
       "«                                                                       »\n",
       "«  out: ────────────────────────────────────────────────────────────────»\n",
       "«                                                                       »\n",
       "«       ┌────────────────────┐                                         »\n",
       "«qs1_0: ┤0                   ├─────────────────────────────────────────»\n",
       "«       │                    │                                         »\n",
       "«qs1_1: ┤1                   ├─────────────────────────────────────────»\n",
       "«       │                    │                                         »\n",
       "«qs2_0: ┤                    ├─────────────────────────────────────────»\n",
       "«       │                    │                                         »\n",
       "«qs2_1: ┤                    ├─────────────────────────────────────────»\n",
       "«       │                    │┌────────┐┌───────┐┌───────┐     ┌──────┐»\n",
       "« qb_0: ┤2 -S([0, 5, 8, 10]) ├┤0       ├┤0      ├┤0      ├─────┤0     ├»\n",
       "«       │                    ││        ││       ││       │     │      │»\n",
       "« qb_1: ┤3                   ├┤1       ├┤1      ├┤1      ├─────┤1     ├»\n",
       "«       │                    ││        ││       ││       │     │      │»\n",
       "« qb_2: ┤4                   ├┤2 -U(5) ├┤2 U(6) ├┤2 IQFT ├─────┤2 QFT ├»\n",
       "«       │                    ││        ││       ││       │     │      │»\n",
       "« qb_3: ┤5                   ├┤3       ├┤3      ├┤3      ├─────┤3     ├»\n",
       "«       │                    ││        ││       ││       │     │      │»\n",
       "« qb_4: ┤6                   ├┤4       ├┤4      ├┤4      ├──■──┤4     ├»\n",
       "«       └────────────────────┘└────────┘└───────┘└───────┘  │  └──────┘»\n",
       "«  a_0: ────────────────────────────────────────────────────┼──────────»\n",
       "«                                                           │          »\n",
       "«  a_1: ────────────────────────────────────────────────────┼──────────»\n",
       "«                                                           │          »\n",
       "«  a_2: ────────────────────────────────────────────────────┼──────────»\n",
       "«                                                           │          »\n",
       "«  a_3: ────────────────────────────────────────────────────┼──────────»\n",
       "«                                                           │          »\n",
       "«  a_4: ────────────────────────────────────────────────────┼──────────»\n",
       "«                                                           │          »\n",
       "«  c_0: ────────────────────────────────────────────────────┼──────────»\n",
       "«                                                         ┌─┴─┐        »\n",
       "«  c_1: ──────────────────────────────────────────────────┤ X ├────────»\n",
       "«                                                         └───┘        »\n",
       "«  c_2: ───────────────────────────────────────────────────────────────»\n",
       "«                                                                      »\n",
       "«  out: ───────────────────────────────────────────────────────────────»\n",
       "«                                                                      »\n",
       "«                              \n",
       "«qs1_0: ───────────────────────\n",
       "«                              \n",
       "«qs1_1: ───────────────────────\n",
       "«                              \n",
       "«qs2_0: ───────────────────────\n",
       "«                              \n",
       "«qs2_1: ───────────────────────\n",
       "«       ┌───────┐┌───────┐     \n",
       "« qb_0: ┤0      ├┤0      ├─────\n",
       "«       │       ││       │     \n",
       "« qb_1: ┤1      ├┤1      ├─────\n",
       "«       │       ││       │     \n",
       "« qb_2: ┤2 U(3) ├┤2 IQFT ├─────\n",
       "«       │       ││       │     \n",
       "« qb_3: ┤3      ├┤3      ├─────\n",
       "«       │       ││       │     \n",
       "« qb_4: ┤4      ├┤4      ├──■──\n",
       "«       └───────┘└───────┘  │  \n",
       "«  a_0: ────────────────────┼──\n",
       "«                           │  \n",
       "«  a_1: ────────────────────┼──\n",
       "«                           │  \n",
       "«  a_2: ────────────────────┼──\n",
       "«                           │  \n",
       "«  a_3: ────────────────────┼──\n",
       "«                           │  \n",
       "«  a_4: ────────────────────┼──\n",
       "«                           │  \n",
       "«  c_0: ────────────────────┼──\n",
       "«                           │  \n",
       "«  c_1: ────────────────────┼──\n",
       "«                         ┌─┴─┐\n",
       "«  c_2: ──────────────────┤ X ├\n",
       "«                         └───┘\n",
       "«  out: ───────────────────────\n",
       "«                              "
      ]
     },
     "execution_count": 19,
     "metadata": {},
     "output_type": "execute_result"
    }
   ],
   "source": [
    "add(oracle, 2*delta + minimum_precision, buffer_qubits) \n",
    "oracle.append(QFT(buffer_qubits.size, do_swaps=False, inverse=True), buffer_qubits)\n",
    "\n",
    "oracle.x(condition_qubits[2])\n",
    "oracle.cnot(buffer_qubits[-1], condition_qubits[2])\n",
    "oracle.draw()"
   ]
  },
  {
   "attachments": {},
   "cell_type": "markdown",
   "metadata": {},
   "source": [
    "# Total circuit\n",
    "We append the oracle circuit to the general qc, do the CNOT to the output qubit, and then append the inverse oracle and the diffuser."
   ]
  },
  {
   "cell_type": "code",
   "execution_count": 20,
   "metadata": {},
   "outputs": [
    {
     "name": "stderr",
     "output_type": "stream",
     "text": [
      "/tmp/ipykernel_1058/353659121.py:5: DeprecationWarning: The method ``qiskit.circuit.quantumcircuit.QuantumCircuit.mct()`` is deprecated as of qiskit 0.45.0. It will be removed no earlier than 3 months after the release date. Use QuantumCircuit.mcx as direct replacement.\n",
      "  circuit.mct(qubits[:-1], qubits[-1])\n"
     ]
    },
    {
     "data": {
      "text/html": [
       "<pre style=\"word-wrap: normal;white-space: pre;background: #fff0;line-height: 1.1;font-family: &quot;Courier New&quot;,Courier,monospace\">         ┌───┐     ┌──────────┐     ┌─────────────┐┌───┐┌───┐          ┌───┐»\n",
       "  qs1_0: ┤ H ├─────┤0         ├─────┤0            ├┤ H ├┤ X ├───────■──┤ X ├»\n",
       "         ├───┤     │          │     │             │├───┤├───┤       │  ├───┤»\n",
       "  qs1_1: ┤ H ├─────┤1         ├─────┤1            ├┤ H ├┤ X ├───────■──┤ X ├»\n",
       "         ├───┤     │          │     │             │├───┤├───┤       │  ├───┤»\n",
       "  qs2_0: ┤ H ├─────┤2         ├─────┤2            ├┤ H ├┤ X ├───────■──┤ X ├»\n",
       "         ├───┤     │          │     │             │├───┤├───┤┌───┐┌─┴─┐├───┤»\n",
       "  qs2_1: ┤ H ├─────┤3         ├─────┤3            ├┤ H ├┤ X ├┤ H ├┤ X ├┤ H ├»\n",
       "         ├───┤     │          │     │             │└───┘└───┘└───┘└───┘└───┘»\n",
       "   qb_0: ┤ H ├─────┤4         ├─────┤4            ├─────────────────────────»\n",
       "         ├───┤     │          │     │             │                         »\n",
       "   qb_1: ┤ H ├─────┤5         ├─────┤5            ├─────────────────────────»\n",
       "         ├───┤     │          │     │             │                         »\n",
       "   qb_2: ┤ H ├─────┤6         ├─────┤6            ├─────────────────────────»\n",
       "         ├───┤     │          │     │             │                         »\n",
       "   qb_3: ┤ H ├─────┤7         ├─────┤7            ├─────────────────────────»\n",
       "         ├───┤     │          │     │             │                         »\n",
       "   qb_4: ┤ H ├─────┤8         ├─────┤8            ├─────────────────────────»\n",
       "         └───┘     │   Oracle │     │   Oracle_dg │                         »\n",
       "    a_0: ──────────┤9         ├─────┤9            ├─────────────────────────»\n",
       "                   │          │     │             │                         »\n",
       "    a_1: ──────────┤10        ├─────┤10           ├─────────────────────────»\n",
       "                   │          │     │             │                         »\n",
       "    a_2: ──────────┤11        ├─────┤11           ├─────────────────────────»\n",
       "                   │          │     │             │                         »\n",
       "    a_3: ──────────┤12        ├─────┤12           ├─────────────────────────»\n",
       "                   │          │     │             │                         »\n",
       "    a_4: ──────────┤13        ├─────┤13           ├─────────────────────────»\n",
       "                   │          │     │             │                         »\n",
       "    c_0: ──────────┤14        ├──■──┤14           ├─────────────────────────»\n",
       "                   │          │  │  │             │                         »\n",
       "    c_1: ──────────┤15        ├──■──┤15           ├─────────────────────────»\n",
       "                   │          │  │  │             │                         »\n",
       "    c_2: ──────────┤16        ├──■──┤16           ├─────────────────────────»\n",
       "         ┌───┐┌───┐│          │┌─┴─┐│             │                         »\n",
       "    out: ┤ X ├┤ H ├┤17        ├┤ X ├┤17           ├─────────────────────────»\n",
       "         └───┘└───┘└──────────┘└───┘└─────────────┘                         »\n",
       "cbits: 4/═══════════════════════════════════════════════════════════════════»\n",
       "                                                                            »\n",
       "«         ┌───┐     ┌─┐         \n",
       "«  qs1_0: ┤ H ├─────┤M├─────────\n",
       "«         ├───┤     └╥┘┌─┐      \n",
       "«  qs1_1: ┤ H ├──────╫─┤M├──────\n",
       "«         ├───┤      ║ └╥┘┌─┐   \n",
       "«  qs2_0: ┤ H ├──────╫──╫─┤M├───\n",
       "«         ├───┤┌───┐ ║  ║ └╥┘┌─┐\n",
       "«  qs2_1: ┤ X ├┤ H ├─╫──╫──╫─┤M├\n",
       "«         └───┘└───┘ ║  ║  ║ └╥┘\n",
       "«   qb_0: ───────────╫──╫──╫──╫─\n",
       "«                    ║  ║  ║  ║ \n",
       "«   qb_1: ───────────╫──╫──╫──╫─\n",
       "«                    ║  ║  ║  ║ \n",
       "«   qb_2: ───────────╫──╫──╫──╫─\n",
       "«                    ║  ║  ║  ║ \n",
       "«   qb_3: ───────────╫──╫──╫──╫─\n",
       "«                    ║  ║  ║  ║ \n",
       "«   qb_4: ───────────╫──╫──╫──╫─\n",
       "«                    ║  ║  ║  ║ \n",
       "«    a_0: ───────────╫──╫──╫──╫─\n",
       "«                    ║  ║  ║  ║ \n",
       "«    a_1: ───────────╫──╫──╫──╫─\n",
       "«                    ║  ║  ║  ║ \n",
       "«    a_2: ───────────╫──╫──╫──╫─\n",
       "«                    ║  ║  ║  ║ \n",
       "«    a_3: ───────────╫──╫──╫──╫─\n",
       "«                    ║  ║  ║  ║ \n",
       "«    a_4: ───────────╫──╫──╫──╫─\n",
       "«                    ║  ║  ║  ║ \n",
       "«    c_0: ───────────╫──╫──╫──╫─\n",
       "«                    ║  ║  ║  ║ \n",
       "«    c_1: ───────────╫──╫──╫──╫─\n",
       "«                    ║  ║  ║  ║ \n",
       "«    c_2: ───────────╫──╫──╫──╫─\n",
       "«                    ║  ║  ║  ║ \n",
       "«    out: ───────────╫──╫──╫──╫─\n",
       "«                    ║  ║  ║  ║ \n",
       "«cbits: 4/═══════════╩══╩══╩══╩═\n",
       "«                    0  1  2  3 </pre>"
      ],
      "text/plain": [
       "         ┌───┐     ┌──────────┐     ┌─────────────┐┌───┐┌───┐          ┌───┐»\n",
       "  qs1_0: ┤ H ├─────┤0         ├─────┤0            ├┤ H ├┤ X ├───────■──┤ X ├»\n",
       "         ├───┤     │          │     │             │├───┤├───┤       │  ├───┤»\n",
       "  qs1_1: ┤ H ├─────┤1         ├─────┤1            ├┤ H ├┤ X ├───────■──┤ X ├»\n",
       "         ├───┤     │          │     │             │├───┤├───┤       │  ├───┤»\n",
       "  qs2_0: ┤ H ├─────┤2         ├─────┤2            ├┤ H ├┤ X ├───────■──┤ X ├»\n",
       "         ├───┤     │          │     │             │├───┤├───┤┌───┐┌─┴─┐├───┤»\n",
       "  qs2_1: ┤ H ├─────┤3         ├─────┤3            ├┤ H ├┤ X ├┤ H ├┤ X ├┤ H ├»\n",
       "         ├───┤     │          │     │             │└───┘└───┘└───┘└───┘└───┘»\n",
       "   qb_0: ┤ H ├─────┤4         ├─────┤4            ├─────────────────────────»\n",
       "         ├───┤     │          │     │             │                         »\n",
       "   qb_1: ┤ H ├─────┤5         ├─────┤5            ├─────────────────────────»\n",
       "         ├───┤     │          │     │             │                         »\n",
       "   qb_2: ┤ H ├─────┤6         ├─────┤6            ├─────────────────────────»\n",
       "         ├───┤     │          │     │             │                         »\n",
       "   qb_3: ┤ H ├─────┤7         ├─────┤7            ├─────────────────────────»\n",
       "         ├───┤     │          │     │             │                         »\n",
       "   qb_4: ┤ H ├─────┤8         ├─────┤8            ├─────────────────────────»\n",
       "         └───┘     │   Oracle │     │   Oracle_dg │                         »\n",
       "    a_0: ──────────┤9         ├─────┤9            ├─────────────────────────»\n",
       "                   │          │     │             │                         »\n",
       "    a_1: ──────────┤10        ├─────┤10           ├─────────────────────────»\n",
       "                   │          │     │             │                         »\n",
       "    a_2: ──────────┤11        ├─────┤11           ├─────────────────────────»\n",
       "                   │          │     │             │                         »\n",
       "    a_3: ──────────┤12        ├─────┤12           ├─────────────────────────»\n",
       "                   │          │     │             │                         »\n",
       "    a_4: ──────────┤13        ├─────┤13           ├─────────────────────────»\n",
       "                   │          │     │             │                         »\n",
       "    c_0: ──────────┤14        ├──■──┤14           ├─────────────────────────»\n",
       "                   │          │  │  │             │                         »\n",
       "    c_1: ──────────┤15        ├──■──┤15           ├─────────────────────────»\n",
       "                   │          │  │  │             │                         »\n",
       "    c_2: ──────────┤16        ├──■──┤16           ├─────────────────────────»\n",
       "         ┌───┐┌───┐│          │┌─┴─┐│             │                         »\n",
       "    out: ┤ X ├┤ H ├┤17        ├┤ X ├┤17           ├─────────────────────────»\n",
       "         └───┘└───┘└──────────┘└───┘└─────────────┘                         »\n",
       "cbits: 4/═══════════════════════════════════════════════════════════════════»\n",
       "                                                                            »\n",
       "«         ┌───┐     ┌─┐         \n",
       "«  qs1_0: ┤ H ├─────┤M├─────────\n",
       "«         ├───┤     └╥┘┌─┐      \n",
       "«  qs1_1: ┤ H ├──────╫─┤M├──────\n",
       "«         ├───┤      ║ └╥┘┌─┐   \n",
       "«  qs2_0: ┤ H ├──────╫──╫─┤M├───\n",
       "«         ├───┤┌───┐ ║  ║ └╥┘┌─┐\n",
       "«  qs2_1: ┤ X ├┤ H ├─╫──╫──╫─┤M├\n",
       "«         └───┘└───┘ ║  ║  ║ └╥┘\n",
       "«   qb_0: ───────────╫──╫──╫──╫─\n",
       "«                    ║  ║  ║  ║ \n",
       "«   qb_1: ───────────╫──╫──╫──╫─\n",
       "«                    ║  ║  ║  ║ \n",
       "«   qb_2: ───────────╫──╫──╫──╫─\n",
       "«                    ║  ║  ║  ║ \n",
       "«   qb_3: ───────────╫──╫──╫──╫─\n",
       "«                    ║  ║  ║  ║ \n",
       "«   qb_4: ───────────╫──╫──╫──╫─\n",
       "«                    ║  ║  ║  ║ \n",
       "«    a_0: ───────────╫──╫──╫──╫─\n",
       "«                    ║  ║  ║  ║ \n",
       "«    a_1: ───────────╫──╫──╫──╫─\n",
       "«                    ║  ║  ║  ║ \n",
       "«    a_2: ───────────╫──╫──╫──╫─\n",
       "«                    ║  ║  ║  ║ \n",
       "«    a_3: ───────────╫──╫──╫──╫─\n",
       "«                    ║  ║  ║  ║ \n",
       "«    a_4: ───────────╫──╫──╫──╫─\n",
       "«                    ║  ║  ║  ║ \n",
       "«    c_0: ───────────╫──╫──╫──╫─\n",
       "«                    ║  ║  ║  ║ \n",
       "«    c_1: ───────────╫──╫──╫──╫─\n",
       "«                    ║  ║  ║  ║ \n",
       "«    c_2: ───────────╫──╫──╫──╫─\n",
       "«                    ║  ║  ║  ║ \n",
       "«    out: ───────────╫──╫──╫──╫─\n",
       "«                    ║  ║  ║  ║ \n",
       "«cbits: 4/═══════════╩══╩══╩══╩═\n",
       "«                    0  1  2  3 "
      ]
     },
     "execution_count": 20,
     "metadata": {},
     "output_type": "execute_result"
    }
   ],
   "source": [
    "qc.append(oracle, qc.qubits)\n",
    "qc.append(MCXGate(3), combine_registers(condition_qubits, output_qubit))\n",
    "qc.append(oracle.inverse(), qc.qubits)\n",
    "diffuser(qc, combine_registers(shop1_qubits, shop2_qubits))\n",
    "qc.measure(combine_registers(shop1_qubits, shop2_qubits), cbits)\n",
    "qc.draw()"
   ]
  },
  {
   "attachments": {},
   "cell_type": "markdown",
   "metadata": {},
   "source": [
    "# Simulation\n",
    "We simulate the circuit 1000 times and reverse the qubit order of the output"
   ]
  },
  {
   "cell_type": "code",
   "execution_count": 21,
   "metadata": {},
   "outputs": [
    {
     "data": {
      "text/plain": [
       "[('0000', 20),\n",
       " ('0001', 19),\n",
       " ('0010', 14),\n",
       " ('0011', 17),\n",
       " ('0100', 10),\n",
       " ('0101', 12),\n",
       " ('0110', 154),\n",
       " ('0111', 138),\n",
       " ('1000', 13),\n",
       " ('1001', 20),\n",
       " ('1010', 145),\n",
       " ('1011', 128),\n",
       " ('1100', 13),\n",
       " ('1101', 13),\n",
       " ('1110', 151),\n",
       " ('1111', 133)]"
      ]
     },
     "execution_count": 21,
     "metadata": {},
     "output_type": "execute_result"
    }
   ],
   "source": [
    "# simulator = Aer.get_backend('aer_simulator') # for older versions of Qiskit/Qiskit Aer\n",
    "simulator = AerSimulator()\n",
    "\n",
    "circ = transpile(qc, simulator)    \n",
    "# circ.qasm(False, 'groversforvolumeconstraint.qasm') # uncomment to save the circuit as qasm\n",
    "nshots = 1000\n",
    "result = simulator.run(circ, shots=nshots).result()\n",
    "counts = result.get_counts(circ)\n",
    "\n",
    "# sort the states and reverse the qubit order\n",
    "sortdict = sorted( [(k[::-1], v) for k, v in counts.items()] )\n",
    "sortdict"
   ]
  },
  {
   "attachments": {},
   "cell_type": "markdown",
   "metadata": {},
   "source": [
    "# Plotting"
   ]
  },
  {
   "cell_type": "code",
   "execution_count": 22,
   "metadata": {},
   "outputs": [
    {
     "data": {
      "image/png": "[encoded data removed]",
      "text/plain": [
       "<Figure size 400x300 with 1 Axes>"
      ]
     },
     "metadata": {},
     "output_type": "display_data"
    }
   ],
   "source": [
    "fig, ax = plt.subplots(figsize=(4,3)) # Small figure so that it looks ok in the two column format\n",
    "selected_counts = {}\n",
    "defaultcolor = 'silver'\n",
    "markedcolor = '#1f77b4'\n",
    "markedstates = ['0110','0111','1010','1011','1110','1111']\n",
    "\n",
    "# Go through the measurement results to plot with bars in different colors depending on if the key is in 'markedstates'\n",
    "barcolors = []\n",
    "for key, value in sortdict:\n",
    "    if key in markedstates:\n",
    "        barcolors.append(markedcolor)\n",
    "    else:\n",
    "        barcolors.append(defaultcolor)\n",
    "    newkey = \"$|\" + key[0] + key[1] + \"\\\\left\\\\rangle |\" #  〉\n",
    "    newkey += key[2] + key[3] + '\\\\right\\\\rangle$'\n",
    "    selected_counts[newkey] = value\n",
    "\n",
    "\n",
    "# For the legend\n",
    "custom_lines = [plt.Rectangle((0,0),1,1, color=markedcolor),\n",
    "                plt.Rectangle((0,0),1,1, color=defaultcolor)]\n",
    "plt.legend(custom_lines, [\"Marked\", \"Unmarked\"], loc='upper left', fontsize=9)\n",
    "\n",
    "ax.spines[\"top\"].set_visible(False)\n",
    "ax.spines[\"right\"].set_visible(False)\n",
    "plt.margins(x=0.016)\n",
    "\n",
    "ax.bar(range(len(selected_counts)), list(selected_counts.values()), tick_label=list(selected_counts.keys()), color=barcolors)\n",
    "plt.setp(ax.get_xticklabels(), rotation=35, ha=\"right\", rotation_mode=\"anchor\", size=6, color='#343837' )\n",
    "plt.yticks(range(0,max(selected_counts.values())+1,25), color='#343837', size=8)\n",
    "plt.xlabel(\"Output state: |S1$\\\\rangle$|S2$\\\\rangle$\",size=10)\n",
    "plt.ylabel(\"Measurement frequency\",size=10)\n",
    "plt.title(\"Measurement outcomes for Grover's search\\n one day, buffer and volume constraints\", size = 10)\n",
    "fig.tight_layout()\n",
    "plt.show()"
   ]
  },
  {
   "attachments": {},
   "cell_type": "markdown",
   "metadata": {},
   "source": [
    "Uncomment to save the figure"
   ]
  },
  {
   "cell_type": "code",
   "execution_count": 23,
   "metadata": {},
   "outputs": [],
   "source": [
    "# filename = \"QISS_Grovers_1day_no_cost.eps\"\n",
    "# fig.savefig(filename, format='eps')"
   ]
  }
 ],
 "metadata": {
  "kernelspec": {
   "display_name": "qiskit_env",
   "language": "python",
   "name": "python3"
  },
  "language_info": {
   "codemirror_mode": {
    "name": "ipython",
    "version": 3
   },
   "file_extension": ".py",
   "mimetype": "text/x-python",
   "name": "python",
   "nbconvert_exporter": "python",
   "pygments_lexer": "ipython3",
   "version": "3.9.18"
  },
  "orig_nbformat": 4,
  "vscode": {
   "interpreter": {
    "hash": "c50e3c2eca8d647f312ce091302925af195627a5dbd8d6938d5f5c7b798f0d79"
   }
  }
 },
 "nbformat": 4,
 "nbformat_minor": 2
}
