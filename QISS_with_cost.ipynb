{
 "cells": [
  {
   "attachments": {},
   "cell_type": "markdown",
   "metadata": {},
   "source": [
    "### License\n",
    "> Copyright 2023 Anna Maria Krol\n",
    ">\n",
    "> Licensed under the Apache License, Version 2.0 (the \"License\");\n",
    "> you may not use this file except in compliance with the License.\n",
    "> You may obtain a copy of the License at\n",
    ">\n",
    ">     http://www.apache.org/licenses/LICENSE-2.0\n",
    ">\n",
    "> Unless required by applicable law or agreed to in writing, software\n",
    "> distributed under the License is distributed on an \"AS IS\" BASIS,\n",
    "> WITHOUT WARRANTIES OR CONDITIONS OF ANY KIND, either express or implied.\n",
    "> See the License for the specific language governing permissions and\n",
    "> limitations under the License."
   ]
  },
  {
   "cell_type": "code",
   "execution_count": 1,
   "metadata": {},
   "outputs": [
    {
     "name": "stderr",
     "output_type": "stream",
     "text": [
      "Matplotlib created a temporary config/cache directory at /tmp/matplotlib-afh71ysj because the default path (/data/localhome/amkrol/.cache/matplotlib) is not a writable directory; it is highly recommended to set the MPLCONFIGDIR environment variable to a writable directory, in particular to speed up the import of Matplotlib and to better support multiprocessing.\n"
     ]
    }
   ],
   "source": [
    "# python 3.9.18 kernel with Qiskit\n",
    "import matplotlib.pyplot as plt\n",
    "import numpy as np\n",
    "from qiskit_aer import AerSimulator\n",
    "# for use with older versions of Qiskit/Qiskit Aer\n",
    "from qiskit import Aer\n",
    "from qiskit import transpile, QuantumCircuit, ClassicalRegister, QuantumRegister\n",
    "from qiskit.circuit.library import QFT, MCXGate\n",
    "import random as random\n",
    "\n",
    "from mcphase_cnx_noancillas import cnx\n",
    "from operator_definitions import *\n",
    "from count_valid_states import validate_state\n",
    "from helper_functions import combine_registers, grayCode"
   ]
  },
  {
   "attachments": {},
   "cell_type": "markdown",
   "metadata": {},
   "source": [
    "# Calculating the value of the buffer per day\n",
    "\n",
    "See QISS_1day for explanations for the functions used. (This function is unchanged from QISS_moredays.ipynb)"
   ]
  },
  {
   "cell_type": "code",
   "execution_count": 2,
   "metadata": {},
   "outputs": [],
   "source": [
    "def bufferfor1day(circuit, buffer_qubits, s1_qubits, s1_shifts, s2_qubits, s2_shifts, ancilla_qubits, condition_qubit, B_max, min_prec):\n",
    "    # B_out = B_init + S1 - S2\n",
    "    add(circuit, s1_shifts, buffer_qubits, s1_qubits)\n",
    "    subtract(circuit, s2_shifts, buffer_qubits, s2_qubits)\n",
    "\n",
    "    # MAX(0, B_out)\n",
    "    circuit.append(QFT(buffer_qubits.size, do_swaps=False, inverse=True), buffer_qubits)\n",
    "    MAX0_B(circuit, buffer_qubits, ancilla_qubits)\n",
    "    circuit.append(QFT(buffer_qubits.size, do_swaps=False, inverse=False), buffer_qubits)\n",
    "\n",
    "    # Condition c1: B_out <= B_max\n",
    "    subtract(circuit, B_max+min_prec, buffer_qubits)\n",
    "\n",
    "    circuit.append(QFT(buffer_qubits.size, do_swaps=False, inverse=True), buffer_qubits)\n",
    "    circuit.cnot(buffer_qubits[-1], condition_qubit)\n",
    "    circuit.append(QFT(buffer_qubits.size, do_swaps=False, inverse=False), buffer_qubits)\n",
    "\n",
    "    # uncompute\n",
    "    add(circuit, B_max+min_prec, buffer_qubits)"
   ]
  },
  {
   "attachments": {},
   "cell_type": "markdown",
   "metadata": {},
   "source": [
    "# Making the oracle\n",
    "\n",
    "Same as before, but now we do *cost* and buffer calculations for each day and calculate the (negated) output volume for all the days.\n",
    "\n",
    "Each day has its own subset of the shop qubits, ancilla qubits and condition qubits, all days use the same set of buffer and cost qubits.\n",
    "\n",
    "\n",
    "This is defined as a separate function to make it easier to apply the inverse oracle."
   ]
  },
  {
   "cell_type": "code",
   "execution_count": 3,
   "metadata": {},
   "outputs": [],
   "source": [
    "def oracle(shop1_qubits, shop2_qubits, cost_qubits, buffer_qubits, max_ancilla, condition_qubits, output_qubit, number_of_days, B_init, B_max, shifts_s1, shifts_s2, costs_s1, costs_s2, C_up, V_target, delta, minimum_precision, num_shop_qubits, num_buffer_qubits):\n",
    "    shftsched_oracle = QuantumCircuit(shop1_qubits, shop2_qubits, cost_qubits, buffer_qubits, max_ancilla, condition_qubits, output_qubit, name=\"Oracle\")\n",
    "    shftsched_oracle.h(cost_qubits)\n",
    "    shftsched_oracle.h(buffer_qubits)\n",
    "\n",
    "    # Initial buffer content\n",
    "    add(shftsched_oracle, B_init,buffer_qubits)\n",
    "\n",
    "    # Calculate the buffer content (and condition) for each day\n",
    "    for day in range(number_of_days):\n",
    "            bufferfor1day(shftsched_oracle, buffer_qubits, shop1_qubits[day*num_shop_qubits:(day+1)*num_shop_qubits], shifts_s1, shop2_qubits[day*num_shop_qubits:(day+1)*num_shop_qubits], shifts_s2, max_ancilla[day*num_buffer_qubits:(day+1)*num_buffer_qubits], condition_qubits[day], B_max, minimum_precision)\n",
    "\n",
    "    # Calculate (-)output volume: -V_out = B_final - S1 - B_init\n",
    "    for day in range(number_of_days):\n",
    "        subtract(shftsched_oracle, shifts_s1, buffer_qubits, shop1_qubits[day*num_shop_qubits:(day+1)*num_shop_qubits])\n",
    "    subtract(shftsched_oracle, B_init, buffer_qubits)\n",
    "\n",
    "    # condition c2: V_out >= V_low\n",
    "    add(shftsched_oracle, V_target-delta-minimum_precision, buffer_qubits)\n",
    "    shftsched_oracle.append(QFT(buffer_qubits.size, do_swaps=False, inverse=True), buffer_qubits)\n",
    "    shftsched_oracle.cnot(buffer_qubits[-1], condition_qubits[-3])\n",
    "    shftsched_oracle.append(QFT(buffer_qubits.size, do_swaps=False, inverse=False), buffer_qubits)\n",
    "\n",
    "    # condition c3: V_out <= V_up \n",
    "    add(shftsched_oracle, 2*delta + minimum_precision, buffer_qubits) \n",
    "    shftsched_oracle.append(QFT(buffer_qubits.size, do_swaps=False, inverse=True), buffer_qubits)\n",
    "    shftsched_oracle.x(condition_qubits[-2])\n",
    "    shftsched_oracle.cnot(buffer_qubits[-1], condition_qubits[-2])\n",
    "\n",
    "    # Add the cost for both shops for each day \n",
    "    for day in range(number_of_days):\n",
    "        add(shftsched_oracle, costs_s1, cost_qubits, shop1_qubits[day*num_shop_qubits:(day+1)*num_shop_qubits])\n",
    "        add(shftsched_oracle, costs_s2, cost_qubits, shop2_qubits[day*num_shop_qubits:(day+1)*num_shop_qubits])\n",
    "    \n",
    "    # condition c4: C_out < C_up\n",
    "    subtract(shftsched_oracle, C_up, cost_qubits)\n",
    "    shftsched_oracle.append(QFT(cost_qubits.size, do_swaps=False, inverse=True), cost_qubits)\n",
    "    shftsched_oracle.cnot(cost_qubits[-1], condition_qubits[-1])\n",
    "\n",
    "    return shftsched_oracle"
   ]
  },
  {
   "attachments": {},
   "cell_type": "markdown",
   "metadata": {},
   "source": [
    "# Full circuit for Grover's (adaptive) search\n",
    "See QISS_moredays for more details, here defined as a function to run the algorithm with variable cost."
   ]
  },
  {
   "cell_type": "code",
   "execution_count": 4,
   "metadata": {},
   "outputs": [],
   "source": [
    "def SSSM_GAS(ndays, B_init, B_max, V_target, delta, shifts_s1, shifts_s2, costs_s1, costs_s2, C_max, n_iter):\n",
    "    minimum_precision = 1\n",
    "    num_buffer_qubits = int(np.ceil(np.log2(B_max + max(shifts_s1)))) + 1 # Max possible value: B_max + maximum added in a day + 1 bit for 2s complement\n",
    "    num_qubits_per_shop_per_day = int(np.ceil(np.log2(len(shifts_s1))))\n",
    "    num_cost_qubits = int(np.ceil(np.log2(ndays*(max(shifts_s1)+max(shifts_s2))))) + 1 # Extra qubit for 2s complement negative number condition checking\n",
    "    num_ancillas = ndays*num_buffer_qubits\n",
    "    num_condition_qubits = 3+ndays\n",
    "\n",
    "    shop1_qubits = QuantumRegister(num_qubits_per_shop_per_day*ndays, name='qs1')\n",
    "    shop2_qubits = QuantumRegister(num_qubits_per_shop_per_day*ndays, name='qs2')\n",
    "    cost_qubits = QuantumRegister(num_cost_qubits, name='qcost')\n",
    "    buffer_qubits = QuantumRegister(num_buffer_qubits, name='qb')\n",
    "\n",
    "    max_ancilla = QuantumRegister(num_ancillas, name='a')\n",
    "    condition_qubits = QuantumRegister(num_condition_qubits, name='c')\n",
    "    output_qubit = QuantumRegister(1, name='out')\n",
    "    cbits = ClassicalRegister(2*num_qubits_per_shop_per_day*ndays, name='cbits')\n",
    "\n",
    "    qc = QuantumCircuit(shop1_qubits, shop2_qubits, cost_qubits, buffer_qubits, max_ancilla, condition_qubits, output_qubit, cbits)\n",
    "\n",
    "    # Initialize output qubit in state |->\n",
    "    qc.x(output_qubit)\n",
    "    qc.h(output_qubit)\n",
    "\n",
    "    # Initialize qubits in state |s>\n",
    "    qc.h(shop1_qubits)\n",
    "    qc.h(shop2_qubits)\n",
    "\n",
    "    shftsched_oracle = oracle(shop1_qubits, shop2_qubits, cost_qubits, buffer_qubits, max_ancilla, condition_qubits, output_qubit, ndays, B_init, B_max, shifts_s1, shifts_s2, costs_s1, costs_s2, C_max, V_target, delta, minimum_precision, num_qubits_per_shop_per_day, num_buffer_qubits)\n",
    "\n",
    "    for _ in range(n_iter):\n",
    "        qc.append(shftsched_oracle, qc.qubits)\n",
    "\n",
    "        # CCCX gate on all conditionals to the |-> qubit\n",
    "\n",
    "        # qc.append(MCXGate(len(condition_qubits)), combine_registers(condition_qubits, output_qubit)) # alternative MCX gate\n",
    "        qc.append(cnx(len(condition_qubits)+1), combine_registers(condition_qubits, output_qubit))\n",
    "        \n",
    "        # uncompute\n",
    "        qc.append(shftsched_oracle.inverse(), qc.qubits)\n",
    "\n",
    "        diffuser(qc, combine_registers(shop1_qubits, shop2_qubits))\n",
    "\n",
    "    return qc\n"
   ]
  },
  {
   "attachments": {},
   "cell_type": "markdown",
   "metadata": {},
   "source": [
    "# Variables"
   ]
  },
  {
   "cell_type": "code",
   "execution_count": 5,
   "metadata": {},
   "outputs": [],
   "source": [
    "number_of_days = 1\n",
    "B_init = 5\n",
    "B_max = 10\n",
    "\n",
    "shifts_s1 = [0,5,8,10]\n",
    "costs_s1 = [0,5,8,10]\n",
    "shifts_s2 = [0,4,7,9]\n",
    "costs_s2 = [0,4,7,9]\n",
    "\n",
    "C_max = 20\n",
    "\n",
    "V_target = 8*number_of_days\n",
    "delta = round(0.05*V_target) \n",
    "if delta == 0:\n",
    "    delta = 1 # It can only be zero for running this for 1 day, but then there are no valid solutions so let's set it to 1\n",
    "n_grovers_iter = 1\n",
    "\n",
    "\n",
    "# simulator = Aer.get_backend('aer_simulator_matrix_product_state', max_memory_mb=32868) # for older versions of Qiskit/Qiskit Aer\n",
    "simulator = AerSimulator(method='matrix_product_state', max_memory_mb=1015815)\n",
    "# number of shots to simulate per plot\n",
    "nshots = 1000\n",
    "\n",
    "# colors for plot\n",
    "defaultcolor = 'silver'\n",
    "markedcolor = '#1f77b4'\n"
   ]
  },
  {
   "attachments": {},
   "cell_type": "markdown",
   "metadata": {},
   "source": [
    "# Simulation and marking of valid states\n",
    "\n",
    "For a supplied maximum cost, we make a circuit and simulate it. Measurement results are returned. For plotting, a list is returned with for each state a bar color:  `markedcolor` if it is valid, and `defaultcolor` if it is not."
   ]
  },
  {
   "cell_type": "code",
   "execution_count": 6,
   "metadata": {},
   "outputs": [],
   "source": [
    "def simulate_maxcost(C_max):\n",
    "    sssm_qc = SSSM_GAS(number_of_days, B_init, B_max, V_target, delta, shifts_s1, shifts_s2, costs_s1, costs_s2, C_max, n_grovers_iter)\n",
    "    shopregs = [item for item in sssm_qc.qregs if (item.name == \"qs1\" or item.name == \"qs2\")]\n",
    "    sssm_qc.measure(combine_registers(shopregs[0], shopregs[1]), sssm_qc.clbits)\n",
    "    circ = transpile(sssm_qc, simulator)\n",
    "\n",
    "    result = simulator.run(circ, shots=nshots).result()\n",
    "    counts = result.get_counts(circ)\n",
    "\n",
    "    sortdict =  sorted( [(k[::-1], v) for k, v in counts.items()])\n",
    "\n",
    "    barcolors = []\n",
    "    selected_counts = {}\n",
    "    for key, value in sortdict:\n",
    "        if(validate_state(key, number_of_days, C_max)):\n",
    "            barcolors.append(markedcolor)\n",
    "        else:\n",
    "            barcolors.append(defaultcolor)\n",
    "        newkey = \"$|\" + key[0] + key[1] + \"\\\\left\\\\rangle |\" #  〉\n",
    "        newkey += key[2] + key[3] + '\\\\right\\\\rangle$'\n",
    "        selected_counts[newkey] = value\n",
    "    return selected_counts, barcolors"
   ]
  },
  {
   "attachments": {},
   "cell_type": "markdown",
   "metadata": {},
   "source": [
    "# Simulating\n",
    "\n",
    "This runs the simulation for a list of maximum costs."
   ]
  },
  {
   "cell_type": "code",
   "execution_count": 7,
   "metadata": {},
   "outputs": [
    {
     "name": "stderr",
     "output_type": "stream",
     "text": [
      "/tmp/ipykernel_1187/824165565.py:15: DeprecationWarning: The method ``qiskit.circuit.quantumcircuit.QuantumCircuit.cnot()`` is deprecated as of qiskit 0.45.0. It will be removed no earlier than 3 months after the release date. Use QuantumCircuit.cx as direct replacement.\n",
      "  circuit.cnot(buffer_qubits[-1], condition_qubit)\n",
      "/tmp/ipykernel_1187/1773077532.py:21: DeprecationWarning: The method ``qiskit.circuit.quantumcircuit.QuantumCircuit.cnot()`` is deprecated as of qiskit 0.45.0. It will be removed no earlier than 3 months after the release date. Use QuantumCircuit.cx as direct replacement.\n",
      "  shftsched_oracle.cnot(buffer_qubits[-1], condition_qubits[-3])\n",
      "/tmp/ipykernel_1187/1773077532.py:28: DeprecationWarning: The method ``qiskit.circuit.quantumcircuit.QuantumCircuit.cnot()`` is deprecated as of qiskit 0.45.0. It will be removed no earlier than 3 months after the release date. Use QuantumCircuit.cx as direct replacement.\n",
      "  shftsched_oracle.cnot(buffer_qubits[-1], condition_qubits[-2])\n",
      "/tmp/ipykernel_1187/1773077532.py:38: DeprecationWarning: The method ``qiskit.circuit.quantumcircuit.QuantumCircuit.cnot()`` is deprecated as of qiskit 0.45.0. It will be removed no earlier than 3 months after the release date. Use QuantumCircuit.cx as direct replacement.\n",
      "  shftsched_oracle.cnot(cost_qubits[-1], condition_qubits[-1])\n"
     ]
    }
   ],
   "source": [
    "costs = [20, 18, 16, 14, 12]\n",
    "data = []\n",
    "maximum_count = 0\n",
    "for i in range(len(costs)):\n",
    "    data.append(simulate_maxcost(costs[i]))\n",
    "    maximum_count = max(max(data[-1][0].values()), maximum_count)"
   ]
  },
  {
   "attachments": {},
   "cell_type": "markdown",
   "metadata": {},
   "source": [
    "# Plotting"
   ]
  },
  {
   "cell_type": "code",
   "execution_count": 8,
   "metadata": {},
   "outputs": [
    {
     "data": {
      "image/png": "[encoded data removed]",
      "text/plain": [
       "<Figure size 1400x350 with 5 Axes>"
      ]
     },
     "metadata": {},
     "output_type": "display_data"
    }
   ],
   "source": [
    "max_ytick = 50*(int(maximum_count/50)+1)\n",
    "fig, axs = plt.subplots(nrows=1, ncols=5, figsize=(14, 3.5), sharey=False)\n",
    "axs[0].set_ylabel(\"Measurement frequency\",size=10)\n",
    "for i in range(len(costs)):\n",
    "    sorteddict, barcolors = data[i]\n",
    "    axs[i].bar(range(len(sorteddict)), list(sorteddict.values()), tick_label=list(sorteddict.keys()), color=barcolors)\n",
    "    plt.setp(axs[i].get_xticklabels(), rotation=35, ha=\"right\", rotation_mode=\"anchor\", size=5, color='#343837' )\n",
    "    axs[i].set_title(\"Maximum cost of $\" + str(costs[i]), size=12)\n",
    "    axs[i].set_xlabel(\"Output state: |S1$\\\\rangle$|S2$\\\\rangle$\",size=10)\n",
    "    axs[i].spines[['right', 'top']].set_visible(False)\n",
    "    axs[i].margins(x=0.016)\n",
    "\n",
    "    axs[i].set_yticks(range(0,max_ytick+1,50), color='#343837')\n",
    "    axs[i].set_yticklabels(range(0,max_ytick+1,50), color='#343837', fontsize=6)\n",
    "\n",
    "custom_lines = [plt.Rectangle((0,0),1,1, color=markedcolor),\n",
    "                plt.Rectangle((0,0),1,1, color=defaultcolor)]\n",
    "fig.subplots_adjust(wspace=0, hspace=0)\n",
    "axs[-1].legend(custom_lines, [\"Marked state\", \"Unmarked state\"], fontsize=10, loc='upper right') #  bbox_to_anchor=(1, 0.5)\n",
    "\n",
    "fig.suptitle(\"Measurement outcomes for Grover's adaptive search: scheduling for one day, maximum cost from \\$20 to \\$12\", y=0.94, size=14)\n",
    "fig.tight_layout()\n",
    "plt.show()"
   ]
  },
  {
   "attachments": {},
   "cell_type": "markdown",
   "metadata": {},
   "source": [
    "Uncomment to save the figure"
   ]
  },
  {
   "cell_type": "code",
   "execution_count": 9,
   "metadata": {},
   "outputs": [],
   "source": [
    "# filename = \"QISS_GAS_1day_decreasing_max_cost.eps\"\n",
    "# fig.savefig(filename, format='eps')"
   ]
  }
 ],
 "metadata": {
  "kernelspec": {
   "display_name": "qiskit_env",
   "language": "python",
   "name": "python3"
  },
  "language_info": {
   "codemirror_mode": {
    "name": "ipython",
    "version": 3
   },
   "file_extension": ".py",
   "mimetype": "text/x-python",
   "name": "python",
   "nbconvert_exporter": "python",
   "pygments_lexer": "ipython3",
   "version": "3.9.18"
  },
  "orig_nbformat": 4,
  "vscode": {
   "interpreter": {
    "hash": "c50e3c2eca8d647f312ce091302925af195627a5dbd8d6938d5f5c7b798f0d79"
   }
  }
 },
 "nbformat": 4,
 "nbformat_minor": 2
}
